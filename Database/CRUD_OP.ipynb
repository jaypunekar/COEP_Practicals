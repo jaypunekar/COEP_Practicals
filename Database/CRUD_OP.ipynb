{
 "cells": [
  {
   "cell_type": "code",
   "execution_count": 1,
   "id": "a3be71f6-42e5-4bec-a844-539519819b8e",
   "metadata": {},
   "outputs": [],
   "source": [
    "from pymongo import MongoClient\n",
    "\n",
    "# Replace the URI string with your MongoDB deployment's connection string.\n",
    "client = MongoClient(\"mongodb://localhost:27017/\")\n",
    "\n",
    "# Access a specific database\n",
    "db = client['mydatabase']\n",
    "\n",
    "# Access a specific collection\n",
    "collection = db['mycollection']\n"
   ]
  },
  {
   "cell_type": "markdown",
   "id": "13903531-6ee8-4737-a8fb-d30539f99305",
   "metadata": {},
   "source": [
    "#CRUD Operation"
   ]
  },
  {
   "cell_type": "code",
   "execution_count": 3,
   "id": "556989f7-07bc-46a7-84f7-4cab87e760e5",
   "metadata": {},
   "outputs": [
    {
     "data": {
      "text/plain": [
       "InsertOneResult(ObjectId('667f974ad6303bff107430d3'), acknowledged=True)"
      ]
     },
     "execution_count": 3,
     "metadata": {},
     "output_type": "execute_result"
    }
   ],
   "source": [
    "#insert\n",
    "\n",
    "document = {\n",
    "    \"name\": \"BOB\",\n",
    "    \"age\": 30,\n",
    "    \"city\": \"New York\"\n",
    "}\n",
    "collection.insert_one(document)\n"
   ]
  },
  {
   "cell_type": "code",
   "execution_count": 7,
   "id": "0667274c-e777-4304-a2f1-040f28c84bcd",
   "metadata": {},
   "outputs": [
    {
     "data": {
      "text/plain": [
       "InsertManyResult([ObjectId('667f99a4d6303bff107430d7'), ObjectId('667f99a4d6303bff107430d8'), ObjectId('667f99a4d6303bff107430d9'), ObjectId('667f99a4d6303bff107430da'), ObjectId('667f99a4d6303bff107430db'), ObjectId('667f99a4d6303bff107430dc')], acknowledged=True)"
      ]
     },
     "execution_count": 7,
     "metadata": {},
     "output_type": "execute_result"
    }
   ],
   "source": [
    "#Insert multiple documents:\n",
    "documents = [\n",
    "    {\"Name\":  \"Nilesh\", \"Age\" : 26, \"College\" : \"COPE Pune\", \"Address\" : \"Thane\"},\n",
    "    {\"Name\": \"Viru\", \"Age\" : 25, \"College\" : \"NITK\", \"Address\" : \"UP\"},\n",
    "    {\"Marks\": 545, \"Subject\" : \"NoSQL\"},\n",
    "    {\"Name\": \"A\", \"Age\" : 25, \"College\" : \"NITK\", \"Address\" : \"KARNATAKA\"},\n",
    "    {\"Name\": \"B\", \"Age\" : 26, \"College\" : \"NITK\", \"Address\" : \"KARNATAKA\"},\n",
    "    {\"Name\": \"C\", \"Age\" : 21, \"College\" : \"NITK\", \"Address\" : \"BLR\"},\n",
    "]\n",
    "collection.insert_many(documents)\n"
   ]
  },
  {
   "cell_type": "code",
   "execution_count": 8,
   "id": "aa1f8329-9e3f-4367-b3a2-d5ab74ba3d6c",
   "metadata": {},
   "outputs": [
    {
     "name": "stdout",
     "output_type": "stream",
     "text": [
      "{'_id': ObjectId('667f9822d6303bff107430d4'), 'Name': 'Nilesh', 'Age': 26, 'College': 'COPE Pune', 'Address': 'Thane'}\n"
     ]
    }
   ],
   "source": [
    "#Find one document:\n",
    "result = collection.find_one({\"Name\": \"Nilesh\"})\n",
    "print(result)"
   ]
  },
  {
   "cell_type": "code",
   "execution_count": 11,
   "id": "8a7a95be-71ea-4522-8715-33337af8087c",
   "metadata": {},
   "outputs": [
    {
     "name": "stdout",
     "output_type": "stream",
     "text": [
      "{'_id': ObjectId('667f9822d6303bff107430d4'), 'Name': 'Nilesh', 'Age': 26, 'College': 'COPE Pune', 'Address': 'Thane'}\n",
      "{'_id': ObjectId('667f99a4d6303bff107430d7'), 'Name': 'Nilesh', 'Age': 26, 'College': 'COPE Pune', 'Address': 'Thane'}\n",
      "{'_id': ObjectId('667f99a4d6303bff107430db'), 'Name': 'B', 'Age': 26, 'College': 'NITK', 'Address': 'KARNATAKA'}\n"
     ]
    }
   ],
   "source": [
    "#Find multiple documents:\n",
    "results = collection.find({\"Age\": {\"$gt\": 25}})\n",
    "for result in results:\n",
    "    print(result)\n"
   ]
  },
  {
   "cell_type": "code",
   "execution_count": 12,
   "id": "ec0a2c59-19ea-4d6e-8a32-80f3710768c4",
   "metadata": {},
   "outputs": [
    {
     "data": {
      "text/plain": [
       "UpdateResult({'n': 1, 'nModified': 1, 'ok': 1.0, 'updatedExisting': True}, acknowledged=True)"
      ]
     },
     "execution_count": 12,
     "metadata": {},
     "output_type": "execute_result"
    }
   ],
   "source": [
    "#Update one document:\n",
    "collection.update_one({\"Name\": \"Nilesh\"}, {\"$set\": {\"age\": 31}})\n"
   ]
  },
  {
   "cell_type": "code",
   "execution_count": 15,
   "id": "dfe9f304-ab9c-482e-b9fc-49852f8c9b4a",
   "metadata": {},
   "outputs": [
    {
     "data": {
      "text/plain": [
       "UpdateResult({'n': 2, 'nModified': 2, 'ok': 1.0, 'updatedExisting': True}, acknowledged=True)"
      ]
     },
     "execution_count": 15,
     "metadata": {},
     "output_type": "execute_result"
    }
   ],
   "source": [
    "#Update multiple documents:\n",
    "collection.update_many({\"College\": \"COPE Pune\"}, {\"$set\": {\"College\": \"VIT\"}})"
   ]
  },
  {
   "cell_type": "code",
   "execution_count": 16,
   "id": "c79ef48d-e674-4558-9264-b03553c523f3",
   "metadata": {},
   "outputs": [
    {
     "data": {
      "text/plain": [
       "DeleteResult({'n': 7, 'ok': 1.0}, acknowledged=True)"
      ]
     },
     "execution_count": 16,
     "metadata": {},
     "output_type": "execute_result"
    }
   ],
   "source": [
    "#Delete one document:\n",
    "collection.delete_many({\"Age\": {\"$lt\": 30}})"
   ]
  },
  {
   "cell_type": "code",
   "execution_count": 17,
   "id": "201cd142-7d0a-46c8-a7a8-976e60c7a654",
   "metadata": {},
   "outputs": [
    {
     "data": {
      "text/plain": [
       "InsertManyResult([ObjectId('667f9c2fd6303bff107430dd'), ObjectId('667f9c2fd6303bff107430de'), ObjectId('667f9c2fd6303bff107430df'), ObjectId('667f9c2fd6303bff107430e0'), ObjectId('667f9c2fd6303bff107430e1'), ObjectId('667f9c2fd6303bff107430e2'), ObjectId('667f9c2fd6303bff107430e3'), ObjectId('667f9c2fd6303bff107430e4'), ObjectId('667f9c2fd6303bff107430e5')], acknowledged=True)"
      ]
     },
     "execution_count": 17,
     "metadata": {},
     "output_type": "execute_result"
    }
   ],
   "source": [
    "#Insert multiple documents:\n",
    "documents = [\n",
    "    {\"Name\":  \"Nilesh\", \"Age\" : 26, \"College\" : \"COPE Pune\", \"Address\" : \"Thane\"},\n",
    "    {\"Name\": \"Viru\", \"Age\" : 25, \"College\" : \"NITK\", \"Address\" : \"UP\"},\n",
    "    {\"Name\": \"A\", \"Age\" : 25, \"College\" : \"NITK\", \"Address\" : \"KARNATAKA\"},\n",
    "    {\"Name\": \"B\", \"Age\" : 26, \"College\" : \"NITK\", \"Address\" : \"KARNATAKA\"},\n",
    "    {\"Name\": \"C\", \"Age\" : 21, \"College\" : \"NITK\", \"Address\" : \"BLR\"},\n",
    "    {\"Name\": \"C\", \"Age\" : 21, \"College\" : \"VIT\", \"Address\" : \"BLR\"},\n",
    "    {\"Name\": \"C\", \"Age\" : 21, \"College\" : \"MMM\", \"Address\" : \"KSR\"},\n",
    "    {\"Name\": \"C\", \"Age\" : 22, \"College\" : \"MMM\", \"Address\" : \"KSR\"},\n",
    "    {\"Name\": \"C\", \"Age\" : 35, \"College\" : \"VIT\", \"Address\" : \"BLR\"},\n",
    "]\n",
    "collection.insert_many(documents)"
   ]
  },
  {
   "cell_type": "markdown",
   "id": "0666ef04-9795-4bc5-9c05-9ec653f4868c",
   "metadata": {},
   "source": [
    "#You can use MongoDB's powerful query language to perform complex queries. Here are a few examples:"
   ]
  },
  {
   "cell_type": "code",
   "execution_count": 21,
   "id": "a6e518ee-8908-480a-98ec-15f8b45aedff",
   "metadata": {},
   "outputs": [
    {
     "name": "stdout",
     "output_type": "stream",
     "text": [
      "{'_id': ObjectId('667f9c2fd6303bff107430e1'), 'Name': 'C', 'Age': 21, 'College': 'NITK', 'Address': 'BLR'}\n",
      "{'_id': ObjectId('667f9c2fd6303bff107430e2'), 'Name': 'C', 'Age': 21, 'College': 'VIT', 'Address': 'BLR'}\n",
      "{'_id': ObjectId('667f9c2fd6303bff107430e5'), 'Name': 'C', 'Age': 35, 'College': 'VIT', 'Address': 'BLR'}\n"
     ]
    }
   ],
   "source": [
    "#Find documents with multiple conditions:\n",
    "results = collection.find({\"Age\": {\"$gt\": 20}, \"Address\": \"BLR\"})\n",
    "for result in results:\n",
    "    print(result)"
   ]
  },
  {
   "cell_type": "code",
   "execution_count": 23,
   "id": "11dd610a-3c79-4633-8bdb-d0855578f6d7",
   "metadata": {},
   "outputs": [
    {
     "name": "stdout",
     "output_type": "stream",
     "text": [
      "{'_id': ObjectId('667f9c2fd6303bff107430dd'), 'Name': 'Nilesh', 'Age': 26, 'College': 'COPE Pune', 'Address': 'Thane'}\n"
     ]
    }
   ],
   "source": [
    "#Use regular expressions:\n",
    "results = collection.find({\"Name\": {\"$regex\": \"^N\"}})\n",
    "for result in results:\n",
    "    print(result)\n"
   ]
  },
  {
   "cell_type": "markdown",
   "id": "3ad641f2-b0b7-495e-9f97-d960370b89be",
   "metadata": {},
   "source": [
    "#Indexing\n",
    "##Indexing improves the performance of read operations. Create an index on a field:"
   ]
  },
  {
   "cell_type": "code",
   "execution_count": 24,
   "id": "77f9878d-d1bc-4620-bdc1-5d28a18f0eca",
   "metadata": {},
   "outputs": [
    {
     "data": {
      "text/plain": [
       "'Name_1'"
      ]
     },
     "execution_count": 24,
     "metadata": {},
     "output_type": "execute_result"
    }
   ],
   "source": [
    "collection.create_index([(\"Name\", 1)])  # 1 for ascending, -1 for descending"
   ]
  },
  {
   "cell_type": "markdown",
   "id": "19ddebb7-9530-4879-be5d-a22c0e796369",
   "metadata": {},
   "source": [
    "#Aggregation\n",
    "##Aggregation operations process data records and return computed results. For example, grouping documents by a field:"
   ]
  },
  {
   "cell_type": "code",
   "execution_count": 26,
   "id": "249a1b4f-5f10-45e4-8eb4-fe61751c97f0",
   "metadata": {},
   "outputs": [
    {
     "name": "stdout",
     "output_type": "stream",
     "text": [
      "{'_id': 'Thane', 'total': 1}\n",
      "{'_id': 'BLR', 'total': 3}\n",
      "{'_id': 'KARNATAKA', 'total': 2}\n",
      "{'_id': None, 'total': 4}\n",
      "{'_id': 'UP', 'total': 1}\n",
      "{'_id': 'KSR', 'total': 2}\n"
     ]
    }
   ],
   "source": [
    "# Define the aggregation pipeline\n",
    "pipeline = [\n",
    "    {\n",
    "        \"$group\": {\n",
    "            \"_id\": \"$Address\",         # Group by the 'city' field\n",
    "            \"total\": {\"$sum\": 1}    # Count the number of documents in each group\n",
    "        }\n",
    "    }\n",
    "]\n",
    "\n",
    "# Execute the aggregation pipeline\n",
    "results = collection.aggregate(pipeline)\n",
    "\n",
    "# Iterate through the aggregation results and print each result\n",
    "for result in results:\n",
    "    print(result)"
   ]
  },
  {
   "cell_type": "code",
   "execution_count": null,
   "id": "4e348aaf-22ee-4c8a-93a7-b8c58b2c408c",
   "metadata": {},
   "outputs": [],
   "source": []
  }
 ],
 "metadata": {
  "kernelspec": {
   "display_name": "Python 3 (ipykernel)",
   "language": "python",
   "name": "python3"
  },
  "language_info": {
   "codemirror_mode": {
    "name": "ipython",
    "version": 3
   },
   "file_extension": ".py",
   "mimetype": "text/x-python",
   "name": "python",
   "nbconvert_exporter": "python",
   "pygments_lexer": "ipython3",
   "version": "3.11.7"
  }
 },
 "nbformat": 4,
 "nbformat_minor": 5
}
