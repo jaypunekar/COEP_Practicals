{
 "cells": [
  {
   "cell_type": "code",
   "execution_count": 1,
   "id": "91bc9f4c-a842-4656-8a40-9b31cc925620",
   "metadata": {},
   "outputs": [
    {
     "name": "stdout",
     "output_type": "stream",
     "text": [
      "Defaulting to user installation because normal site-packages is not writeable\n",
      "Collecting pymongo\n",
      "  Downloading pymongo-4.8.0-cp311-cp311-win_amd64.whl.metadata (22 kB)\n",
      "Collecting dnspython<3.0.0,>=1.16.0 (from pymongo)\n",
      "  Downloading dnspython-2.6.1-py3-none-any.whl.metadata (5.8 kB)\n",
      "Downloading pymongo-4.8.0-cp311-cp311-win_amd64.whl (630 kB)\n",
      "   ---------------------------------------- 0.0/631.0 kB ? eta -:--:--\n",
      "   - -------------------------------------- 30.7/631.0 kB 1.4 MB/s eta 0:00:01\n",
      "   ------- -------------------------------- 122.9/631.0 kB 1.8 MB/s eta 0:00:01\n",
      "   -------------- ------------------------- 225.3/631.0 kB 1.7 MB/s eta 0:00:01\n",
      "   --------------------- ------------------ 337.9/631.0 kB 1.9 MB/s eta 0:00:01\n",
      "   ------------------------ --------------- 389.1/631.0 kB 2.0 MB/s eta 0:00:01\n",
      "   --------------------------------- ------ 532.5/631.0 kB 2.1 MB/s eta 0:00:01\n",
      "   ---------------------------------------- 631.0/631.0 kB 2.1 MB/s eta 0:00:00\n",
      "Downloading dnspython-2.6.1-py3-none-any.whl (307 kB)\n",
      "   ---------------------------------------- 0.0/307.7 kB ? eta -:--:--\n",
      "   ------------------------- ------------- 204.8/307.7 kB 12.2 MB/s eta 0:00:01\n",
      "   ---------------------------------------- 307.7/307.7 kB 3.8 MB/s eta 0:00:00\n",
      "Installing collected packages: dnspython, pymongo\n",
      "Successfully installed dnspython-2.6.1 pymongo-4.8.0\n"
     ]
    }
   ],
   "source": [
    "!pip install pymongo  #install library"
   ]
  },
  {
   "cell_type": "code",
   "execution_count": 3,
   "id": "657b1ee0-5491-4547-9c55-6e40862dc0da",
   "metadata": {},
   "outputs": [
    {
     "name": "stdout",
     "output_type": "stream",
     "text": [
      "Welcome to PyMongo\n",
      "MongoClient(host=['localhost:27017'], document_class=dict, tz_aware=False, connect=True)\n"
     ]
    }
   ],
   "source": [
    "import pymongo\n",
    "if __name__ == \"__main__\":\n",
    "    print(\"Welcome to PyMongo\")\n",
    "    client = pymongo.MongoClient(\"mongodb://localhost:27017/\")\n",
    "    print(client)"
   ]
  },
  {
   "cell_type": "code",
   "execution_count": null,
   "id": "cc6d113e-71b5-43af-b4d0-0aa6f321f1db",
   "metadata": {},
   "outputs": [],
   "source": []
  }
 ],
 "metadata": {
  "kernelspec": {
   "display_name": "Python 3 (ipykernel)",
   "language": "python",
   "name": "python3"
  },
  "language_info": {
   "codemirror_mode": {
    "name": "ipython",
    "version": 3
   },
   "file_extension": ".py",
   "mimetype": "text/x-python",
   "name": "python",
   "nbconvert_exporter": "python",
   "pygments_lexer": "ipython3",
   "version": "3.11.7"
  }
 },
 "nbformat": 4,
 "nbformat_minor": 5
}
